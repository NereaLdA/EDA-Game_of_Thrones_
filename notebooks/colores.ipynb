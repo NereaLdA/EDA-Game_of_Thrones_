{
 "cells": [
  {
   "cell_type": "code",
   "execution_count": null,
   "id": "9c714074",
   "metadata": {},
   "outputs": [],
   "source": [
    "GOTcolors = [\n",
    "    \"#1C1C1C\",  # Negro (Noche / Guardia de la Noche)\n",
    "    \"#8B0000\",  # Rojo oscuro (Casa Baratheon)\n",
    "    \"#4682B4\",  # Azul acero (Casa Stark, invierno)\n",
    "    \"#DAA520\",  # Dorado (Casa Lannister)\n",
    "    \"#708090\",  # Gris pizarra (Hierro / Casa Greyjoy)\n",
    "    \"#013220\",  # Verde oscuro (Casa Tyrell / naturaleza)\n",
    "    \"#E0FFFF\",  # Azul hielo (Caminantes Blancos / Invierno)\n",
    "    \"#FFFAF0\",  # Blanco roto (verano, desierto / Daenerys)\n",
    "    \"#2F4F4F\",  # Gris oscuro (batallas, oscuridad)\n",
    "    \"#A52A2A\"   # Marrón rojizo (sangre, tierra)\n",
    "]"
   ]
  }
 ],
 "metadata": {
  "language_info": {
   "name": "python"
  }
 },
 "nbformat": 4,
 "nbformat_minor": 5
}
