{
 "cells": [
  {
   "cell_type": "markdown",
   "id": "fead254f",
   "metadata": {},
   "source": [
    "# **EDA: Game of Thrones**"
   ]
  },
  {
   "cell_type": "markdown",
   "id": "51f5a569",
   "metadata": {},
   "source": [
    "![imagen](../img/portada.jpg)"
   ]
  },
  {
   "cell_type": "code",
   "execution_count": null,
   "id": "68ee021f",
   "metadata": {},
   "outputs": [],
   "source": []
  }
 ],
 "metadata": {
  "kernelspec": {
   "display_name": "Python 3",
   "language": "python",
   "name": "python3"
  },
  "language_info": {
   "codemirror_mode": {
    "name": "ipython",
    "version": 3
   },
   "file_extension": ".py",
   "mimetype": "text/x-python",
   "name": "python",
   "nbconvert_exporter": "python",
   "pygments_lexer": "ipython3",
   "version": "3.11.9"
  }
 },
 "nbformat": 4,
 "nbformat_minor": 5
}
